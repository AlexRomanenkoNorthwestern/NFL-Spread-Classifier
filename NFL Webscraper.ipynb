{
 "cells": [
  {
   "cell_type": "code",
   "execution_count": null,
   "id": "2c7539d2",
   "metadata": {},
   "outputs": [],
   "source": [
    "#https://www.teamrankings.com/nfl/stat/points-per-game"
   ]
  },
  {
   "cell_type": "code",
   "execution_count": 28,
   "id": "1fb3e0d1",
   "metadata": {},
   "outputs": [],
   "source": [
    "import requests\n",
    "from bs4 import BeautifulSoup\n",
    "import pandas as pd\n",
    "\n",
    "team_list = [\"Arizona\", \"Atlanta\", \"Baltimore\", \"Buffalo\", \"Carolina\", \"Chicago\", \"Cincinnati\", \"Cleveland\", \n",
    "            \"Dallas\", \"Denver\", \"Detroit\", \"Green Bay\", \"Houston\", \"Indianapolis\", \"Jacksonville\", \"Kansas City\", \n",
    "            \"LA Chargers\", \"LA Rams\", \"Las Vegas\", \"Miami\", \"Minnesota\", \"New England\", \"New Orleans\", \"NY Giants\", \n",
    "            \"NY Jets\", \"Philadelphia\", \"Pittsburgh\", \"San Francisco\", \"Seattle\", \"Tampa Bay\", \"Tennessee\", \"Washington\"]\n",
    "\n",
    "# Note that 2023-01-01 is the 2022 regular season ish (I just estimated based on right before the playoffs typically are)\n",
    "year_list = [\"2023-01-01\", \"2022-01-01\", \"2021-01-01\", \"2020-01-01\", \"2019-01-01\", \"2018-01-01\", \"2017-01-01\", \"2016-01-01\", \n",
    "            \"2015-01-01\", \"2014-01-01\", \"2013-01-01\", \"2012-01-01\", \"2011-01-01\", \"2010-01-01\", \"2009-01-01\", \"2008-01-01\", \n",
    "            \"2007-01-01\", \"2006-01-01\", \"2005-01-01\", \"2004-01-01\"]\n",
    "\n",
    "link_list = [\"https://www.teamrankings.com/nfl/stat/points-per-game\", \n",
    "            \"https://www.teamrankings.com/nfl/stat/red-zone-scoring-pct\", \n",
    "            \"https://www.teamrankings.com/nfl/stat/yards-per-game\", \n",
    "            \"https://www.teamrankings.com/nfl/stat/yards-per-play\", \n",
    "            \"https://www.teamrankings.com/nfl/stat/average-time-of-possession-net-of-ot\", \n",
    "            \"https://www.teamrankings.com/nfl/stat/third-down-conversion-pct\", \n",
    "            \"https://www.teamrankings.com/nfl/stat/yards-per-rush-attempt\", \n",
    "            \"https://www.teamrankings.com/nfl/stat/rushing-attempts-per-game\", \n",
    "            \"https://www.teamrankings.com/nfl/stat/pass-attempts-per-game\", \n",
    "            \"https://www.teamrankings.com/nfl/stat/completions-per-game\", \n",
    "            \"https://www.teamrankings.com/nfl/stat/yards-per-completion\", \n",
    "            \"https://www.teamrankings.com/nfl/stat/average-team-passer-rating\", \n",
    "            \"https://www.teamrankings.com/nfl/stat/kicking-points-per-game\", \n",
    "            \"https://www.teamrankings.com/nfl/stat/net-punt-yards-per-game\", \n",
    "            \"https://www.teamrankings.com/nfl/stat/field-goal-conversion-pct\", \n",
    "            \"https://www.teamrankings.com/nfl/stat/opponent-points-per-game\", \n",
    "            \"https://www.teamrankings.com/nfl/stat/opponent-red-zone-scoring-pct\", \n",
    "            \"https://www.teamrankings.com/nfl/stat/opponent-yards-per-game\", \n",
    "            \"https://www.teamrankings.com/nfl/stat/opponent-yards-per-play\", \n",
    "            \"https://www.teamrankings.com/nfl/stat/opponent-average-time-of-possession-net-of-ot\", \n",
    "            \"https://www.teamrankings.com/nfl/stat/opponent-third-down-conversion-pct\", \n",
    "            \"https://www.teamrankings.com/nfl/stat/opponent-yards-per-rush-attempt\", \n",
    "            \"https://www.teamrankings.com/nfl/stat/opponent-rushing-attempts-per-game\", \n",
    "            \"https://www.teamrankings.com/nfl/stat/opponent-pass-attempts-per-game\", \n",
    "            \"https://www.teamrankings.com/nfl/stat/opponent-completion-pct\", \n",
    "            \"https://www.teamrankings.com/nfl/stat/opponent-yards-per-completion\", \n",
    "            \"https://www.teamrankings.com/nfl/stat/opponent-average-team-passer-rating\", \n",
    "            \"https://www.teamrankings.com/nfl/stat/opponent-kicking-points-per-game\", \n",
    "            \"https://www.teamrankings.com/nfl/stat/opponent-net-punt-yards-per-game\", \n",
    "            \"https://www.teamrankings.com/nfl/stat/opponent-field-goal-conversion-pct\"]\n",
    "\n",
    "\n",
    "#https://www.teamrankings.com/nfl/stat/points-per-game?date=2023-01-01"
   ]
  },
  {
   "cell_type": "code",
   "execution_count": null,
   "id": "65ee8145",
   "metadata": {},
   "outputs": [],
   "source": [
    "dataframe = pd.DataFrame()\n",
    "first_column = True\n",
    "for link in link_list:\n",
    "    first_year = True\n",
    "    for year in year_list:\n",
    "        #Blank data:\n",
    "        stat_name = link[link.index('stat/')+5:]\n",
    "        data_dictionary = {\"Team\":[], stat_name:[]}\n",
    "        \n",
    "        #Concat the link and year in a URL\n",
    "        url = link + \"?date=\" + year\n",
    "        contents = requests.get(url, headers=headers).text\n",
    "        html = BeautifulSoup(contents, 'html.parser')\n",
    "        \n",
    "        for team in team_list:\n",
    "            value = html.find(\"td\", {\"data-sort\":team}).find_next_sibling(\"td\").text\n",
    "            \n",
    "            team_name = team+str(int(year[0:4])-1)\n",
    "            data_dictionary['Team'].append(team_name)\n",
    "            data_dictionary[stat_name].append(value)\n",
    "          \n",
    "        new_dataframe = pd.DataFrame(data_dictionary)\n",
    "        if len(dataframe) == 0:\n",
    "            dataframe = new_dataframe\n",
    "        elif first_column == True:\n",
    "            dataframe = pd.concat([dataframe, new_dataframe])\n",
    "        elif first_year == True:\n",
    "            new_dataframe.set_index('Team', inplace = True)\n",
    "            dataframe = dataframe.merge(new_dataframe, left_index = True, right_index = True, how='left')\n",
    "        else:\n",
    "            new_dataframe.set_index('Team', inplace = True)\n",
    "            dataframe.update(new_dataframe, overwrite = False)\n",
    "        first_year = False\n",
    "        \n",
    "    if first_column == True:\n",
    "        dataframe.set_index('Team', inplace = True)\n",
    "        first_column = False #Now we have completed one column\n",
    "        \n",
    "dataframe.head(10)"
   ]
  },
  {
   "cell_type": "code",
   "execution_count": null,
   "id": "10011402",
   "metadata": {},
   "outputs": [],
   "source": [
    "dataframe.to_csv(\"NFL Data.csv\", index=True)"
   ]
  }
 ],
 "metadata": {
  "kernelspec": {
   "display_name": "Python 3 (ipykernel)",
   "language": "python",
   "name": "python3"
  },
  "language_info": {
   "codemirror_mode": {
    "name": "ipython",
    "version": 3
   },
   "file_extension": ".py",
   "mimetype": "text/x-python",
   "name": "python",
   "nbconvert_exporter": "python",
   "pygments_lexer": "ipython3",
   "version": "3.9.18"
  }
 },
 "nbformat": 4,
 "nbformat_minor": 5
}
